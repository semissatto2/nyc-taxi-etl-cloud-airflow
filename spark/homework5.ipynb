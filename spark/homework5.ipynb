{
 "cells": [
  {
   "cell_type": "code",
   "execution_count": 1,
   "id": "032996a1-9baf-4a74-b82b-299a126d60e5",
   "metadata": {},
   "outputs": [],
   "source": [
    "import pyspark\n",
    "from pyspark.sql import SparkSession\n",
    "import pyspark.sql.functions as F\n",
    "import datetime"
   ]
  },
  {
   "cell_type": "code",
   "execution_count": 2,
   "id": "b12694c9-45bb-48a0-a509-a8414fa4c534",
   "metadata": {},
   "outputs": [
    {
     "name": "stderr",
     "output_type": "stream",
     "text": [
      "Setting default log level to \"WARN\".\n",
      "To adjust logging level use sc.setLogLevel(newLevel). For SparkR, use setLogLevel(newLevel).\n"
     ]
    },
    {
     "name": "stdout",
     "output_type": "stream",
     "text": [
      "25/03/18 03:30:27 WARN NativeCodeLoader: Unable to load native-hadoop library for your platform... using builtin-java classes where applicable\n"
     ]
    }
   ],
   "source": [
    "spark = SparkSession.builder \\\n",
    "    .master(\"local[*]\") \\\n",
    "    .appName('test') \\\n",
    "    .getOrCreate()"
   ]
  },
  {
   "cell_type": "code",
   "execution_count": 3,
   "id": "454d9950-5542-45ef-9bed-47d9e6309d46",
   "metadata": {},
   "outputs": [
    {
     "data": {
      "text/plain": [
       "'3.3.2'"
      ]
     },
     "execution_count": 3,
     "metadata": {},
     "output_type": "execute_result"
    }
   ],
   "source": [
    "spark.version"
   ]
  },
  {
   "cell_type": "code",
   "execution_count": 4,
   "id": "eee4c91c-6841-4048-a243-d9058d4f27dd",
   "metadata": {},
   "outputs": [
    {
     "name": "stdout",
     "output_type": "stream",
     "text": [
      "--2025-03-18 03:30:30--  https://d37ci6vzurychx.cloudfront.net/trip-data/yellow_tripdata_2024-10.parquet\n",
      "Resolving d37ci6vzurychx.cloudfront.net (d37ci6vzurychx.cloudfront.net)... 18.160.201.50, 18.160.201.5, 18.160.201.126, ...\n",
      "Connecting to d37ci6vzurychx.cloudfront.net (d37ci6vzurychx.cloudfront.net)|18.160.201.50|:443... connected.\n",
      "HTTP request sent, awaiting response... 200 OK\n",
      "Length: 64346071 (61M) [binary/octet-stream]\n",
      "Saving to: ‘yellow_tripdata_2024-10.parquet.1’\n",
      "\n",
      "yellow_tripdata_202 100%[===================>]  61.36M   200MB/s    in 0.3s    \n",
      "\n",
      "2025-03-18 03:30:31 (200 MB/s) - ‘yellow_tripdata_2024-10.parquet.1’ saved [64346071/64346071]\n",
      "\n"
     ]
    }
   ],
   "source": [
    "!wget https://d37ci6vzurychx.cloudfront.net/trip-data/yellow_tripdata_2024-10.parquet"
   ]
  },
  {
   "cell_type": "code",
   "execution_count": 5,
   "id": "742e9fdc-daa5-4587-ae98-1df47feb2249",
   "metadata": {},
   "outputs": [
    {
     "name": "stdout",
     "output_type": "stream",
     "text": [
      "total 123M\n",
      "-rw-rw-r-- 1 guilhermesemissatto guilhermesemissatto  16K Mar 18 03:26 Untitled.ipynb\n",
      "-rw-rw-r-- 1 guilhermesemissatto guilhermesemissatto 7.2K Mar 18 03:28 homework5.ipynb\n",
      "drwxr-xr-x 3 guilhermesemissatto guilhermesemissatto 4.0K Mar 18 02:58 pq\n",
      "-rw-rw-r-- 1 guilhermesemissatto guilhermesemissatto  13K Feb 22  2024 taxi_zone_lookup.csv\n",
      "-rw-rw-r-- 1 guilhermesemissatto guilhermesemissatto  62M Dec 18 21:21 yellow_tripdata_2024-10.parquet\n",
      "-rw-rw-r-- 1 guilhermesemissatto guilhermesemissatto  62M Dec 18 21:21 yellow_tripdata_2024-10.parquet.1\n"
     ]
    }
   ],
   "source": [
    "!ls -lh"
   ]
  },
  {
   "cell_type": "code",
   "execution_count": 6,
   "id": "52f67982-b2ba-40f3-90dc-0b29ca9e93cd",
   "metadata": {},
   "outputs": [
    {
     "name": "stderr",
     "output_type": "stream",
     "text": [
      "                                                                                \r"
     ]
    }
   ],
   "source": [
    "df = (\n",
    "    spark\n",
    "    .read\n",
    "    .parquet('yellow_tripdata_2024-10.parquet')\n",
    ")"
   ]
  },
  {
   "cell_type": "code",
   "execution_count": 7,
   "id": "fc2f6b40-15bb-4172-958b-512dd47b92c9",
   "metadata": {},
   "outputs": [
    {
     "name": "stderr",
     "output_type": "stream",
     "text": [
      "                                                                                \r"
     ]
    },
    {
     "data": {
      "text/plain": [
       "3833771"
      ]
     },
     "execution_count": 7,
     "metadata": {},
     "output_type": "execute_result"
    }
   ],
   "source": [
    "df.count()"
   ]
  },
  {
   "cell_type": "code",
   "execution_count": 10,
   "id": "94d5c5ad-7dcb-4c9c-9901-a99302a88cf6",
   "metadata": {},
   "outputs": [
    {
     "name": "stderr",
     "output_type": "stream",
     "text": [
      "                                                                                \r"
     ]
    }
   ],
   "source": [
    "df_repartitioned = (\n",
    "    df\n",
    "    .repartition(4)\n",
    "    .write\n",
    "    .parquet('pq/df_repartitioned', mode='overwrite')\n",
    ")"
   ]
  },
  {
   "cell_type": "code",
   "execution_count": 11,
   "id": "310cc723-46b1-498e-8ea9-9f03cdcb4f2d",
   "metadata": {},
   "outputs": [
    {
     "name": "stdout",
     "output_type": "stream",
     "text": [
      "total 123M\n",
      "-rw-rw-r-- 1 guilhermesemissatto guilhermesemissatto  16K Mar 18 03:26 Untitled.ipynb\n",
      "-rw-rw-r-- 1 guilhermesemissatto guilhermesemissatto 7.2K Mar 18 03:28 homework5.ipynb\n",
      "drwxr-xr-x 3 guilhermesemissatto guilhermesemissatto 4.0K Mar 18 03:31 pq\n",
      "-rw-rw-r-- 1 guilhermesemissatto guilhermesemissatto  13K Feb 22  2024 taxi_zone_lookup.csv\n",
      "-rw-rw-r-- 1 guilhermesemissatto guilhermesemissatto  62M Dec 18 21:21 yellow_tripdata_2024-10.parquet\n",
      "-rw-rw-r-- 1 guilhermesemissatto guilhermesemissatto  62M Dec 18 21:21 yellow_tripdata_2024-10.parquet.1\n"
     ]
    }
   ],
   "source": [
    "!ls -lh"
   ]
  },
  {
   "cell_type": "code",
   "execution_count": 14,
   "id": "e1910bcb-6462-431c-b4f7-5bd5289343e2",
   "metadata": {},
   "outputs": [],
   "source": [
    "!cd pq/df_repartitioned"
   ]
  },
  {
   "cell_type": "code",
   "execution_count": 15,
   "id": "4fc60dd6-2b93-48ca-85fb-32db29a2ce72",
   "metadata": {},
   "outputs": [
    {
     "name": "stdout",
     "output_type": "stream",
     "text": [
      "total 123M\n",
      "-rw-rw-r-- 1 guilhermesemissatto guilhermesemissatto  16K Mar 18 03:26 Untitled.ipynb\n",
      "-rw-rw-r-- 1 guilhermesemissatto guilhermesemissatto 7.2K Mar 18 03:28 homework5.ipynb\n",
      "drwxr-xr-x 3 guilhermesemissatto guilhermesemissatto 4.0K Mar 18 03:31 pq\n",
      "-rw-rw-r-- 1 guilhermesemissatto guilhermesemissatto  13K Feb 22  2024 taxi_zone_lookup.csv\n",
      "-rw-rw-r-- 1 guilhermesemissatto guilhermesemissatto  62M Dec 18 21:21 yellow_tripdata_2024-10.parquet\n",
      "-rw-rw-r-- 1 guilhermesemissatto guilhermesemissatto  62M Dec 18 21:21 yellow_tripdata_2024-10.parquet.1\n"
     ]
    }
   ],
   "source": [
    "!ls -lh"
   ]
  },
  {
   "cell_type": "code",
   "execution_count": 16,
   "id": "197da667-163d-4918-b9a8-2e60c5b5eb3d",
   "metadata": {},
   "outputs": [
    {
     "name": "stdout",
     "output_type": "stream",
     "text": [
      "+--------+--------------------+---------------------+---------------+-------------+----------+------------------+------------+------------+------------+-----------+-----+-------+----------+------------+---------------------+------------+--------------------+-----------+\n",
      "|VendorID|tpep_pickup_datetime|tpep_dropoff_datetime|passenger_count|trip_distance|RatecodeID|store_and_fwd_flag|PULocationID|DOLocationID|payment_type|fare_amount|extra|mta_tax|tip_amount|tolls_amount|improvement_surcharge|total_amount|congestion_surcharge|Airport_fee|\n",
      "+--------+--------------------+---------------------+---------------+-------------+----------+------------------+------------+------------+------------+-----------+-----+-------+----------+------------+---------------------+------------+--------------------+-----------+\n",
      "|       2| 2024-10-01 00:30:44|  2024-10-01 00:48:26|              1|          3.0|         1|                 N|         162|         246|           1|       18.4|  1.0|    0.5|       1.5|         0.0|                  1.0|        24.9|                 2.5|        0.0|\n",
      "|       1| 2024-10-01 00:12:20|  2024-10-01 00:25:25|              1|          2.2|         1|                 N|          48|         236|           1|       14.2|  3.5|    0.5|       3.8|         0.0|                  1.0|        23.0|                 2.5|        0.0|\n",
      "|       1| 2024-10-01 00:04:46|  2024-10-01 00:13:52|              1|          2.7|         1|                 N|         142|          24|           1|       13.5|  3.5|    0.5|       3.7|         0.0|                  1.0|        22.2|                 2.5|        0.0|\n",
      "|       1| 2024-10-01 00:12:10|  2024-10-01 00:23:01|              1|          3.1|         1|                 N|         233|          75|           1|       14.2|  3.5|    0.5|       2.0|         0.0|                  1.0|        21.2|                 2.5|        0.0|\n",
      "|       1| 2024-10-01 00:30:22|  2024-10-01 00:30:39|              1|          0.0|         1|                 N|         262|         262|           3|        3.0|  3.5|    0.5|       0.0|         0.0|                  1.0|         8.0|                 2.5|        0.0|\n",
      "+--------+--------------------+---------------------+---------------+-------------+----------+------------------+------------+------------+------------+-----------+-----+-------+----------+------------+---------------------+------------+--------------------+-----------+\n",
      "only showing top 5 rows\n",
      "\n"
     ]
    }
   ],
   "source": [
    "df.show(5)"
   ]
  },
  {
   "cell_type": "code",
   "execution_count": 17,
   "id": "09c4bef7-0824-47b3-bbe4-be5e13a7af73",
   "metadata": {},
   "outputs": [
    {
     "name": "stdout",
     "output_type": "stream",
     "text": [
      "root\n",
      " |-- VendorID: integer (nullable = true)\n",
      " |-- tpep_pickup_datetime: timestamp (nullable = true)\n",
      " |-- tpep_dropoff_datetime: timestamp (nullable = true)\n",
      " |-- passenger_count: long (nullable = true)\n",
      " |-- trip_distance: double (nullable = true)\n",
      " |-- RatecodeID: long (nullable = true)\n",
      " |-- store_and_fwd_flag: string (nullable = true)\n",
      " |-- PULocationID: integer (nullable = true)\n",
      " |-- DOLocationID: integer (nullable = true)\n",
      " |-- payment_type: long (nullable = true)\n",
      " |-- fare_amount: double (nullable = true)\n",
      " |-- extra: double (nullable = true)\n",
      " |-- mta_tax: double (nullable = true)\n",
      " |-- tip_amount: double (nullable = true)\n",
      " |-- tolls_amount: double (nullable = true)\n",
      " |-- improvement_surcharge: double (nullable = true)\n",
      " |-- total_amount: double (nullable = true)\n",
      " |-- congestion_surcharge: double (nullable = true)\n",
      " |-- Airport_fee: double (nullable = true)\n",
      "\n"
     ]
    }
   ],
   "source": [
    "df.printSchema()"
   ]
  },
  {
   "cell_type": "code",
   "execution_count": 18,
   "id": "09ac0562-2289-4fd7-b8f3-fcc51a556b17",
   "metadata": {},
   "outputs": [],
   "source": [
    "analisis = (\n",
    "    df\n",
    "    .withColumn('tpep_pickup_date', F.to_date('tpep_pickup_datetime'))\n",
    "    .groupby('tpep_pickup_date')\n",
    "    .agg(F.count(\"*\").alias('count'))\n",
    "    .orderBy('tpep_pickup_date')\n",
    ")"
   ]
  },
  {
   "cell_type": "code",
   "execution_count": 19,
   "id": "f6676312-b3e5-46bf-abbf-b101f3021215",
   "metadata": {},
   "outputs": [
    {
     "name": "stderr",
     "output_type": "stream",
     "text": [
      "[Stage 8:>                                                          (0 + 4) / 4]\r"
     ]
    },
    {
     "name": "stdout",
     "output_type": "stream",
     "text": [
      "+----------------+------+\n",
      "|tpep_pickup_date| count|\n",
      "+----------------+------+\n",
      "|      2009-01-01|     1|\n",
      "|      2024-09-30|    12|\n",
      "|      2024-10-01|119118|\n",
      "|      2024-10-02|113906|\n",
      "|      2024-10-03|108847|\n",
      "|      2024-10-04|112431|\n",
      "|      2024-10-05|124443|\n",
      "|      2024-10-06|103627|\n",
      "|      2024-10-07|102014|\n",
      "|      2024-10-08|121402|\n",
      "|      2024-10-09|129915|\n",
      "|      2024-10-10|143206|\n",
      "|      2024-10-11|128821|\n",
      "|      2024-10-12|130159|\n",
      "|      2024-10-13|109969|\n",
      "|      2024-10-14|101513|\n",
      "|      2024-10-15|128893|\n",
      "|      2024-10-16|134891|\n",
      "|      2024-10-17|136330|\n",
      "|      2024-10-18|133213|\n",
      "+----------------+------+\n",
      "only showing top 20 rows\n",
      "\n"
     ]
    },
    {
     "name": "stderr",
     "output_type": "stream",
     "text": [
      "                                                                                \r"
     ]
    }
   ],
   "source": [
    "analisis.show()"
   ]
  },
  {
   "cell_type": "code",
   "execution_count": 20,
   "id": "f301530c-04a5-444c-b356-cefd94fea35e",
   "metadata": {},
   "outputs": [],
   "source": [
    "analisis2 = (\n",
    "    df\n",
    "    .withColumn('tpep_dropoff_date', F.to_date('tpep_dropoff_datetime'))\n",
    "    .groupby('tpep_dropoff_date')\n",
    "    .agg(F.count(\"*\").alias('count'))\n",
    "    .orderBy('tpep_dropoff_date')\n",
    ")"
   ]
  },
  {
   "cell_type": "code",
   "execution_count": 21,
   "id": "ab30cafd-445e-41c8-9412-1aec721a5fbf",
   "metadata": {},
   "outputs": [
    {
     "name": "stdout",
     "output_type": "stream",
     "text": [
      "+-----------------+------+\n",
      "|tpep_dropoff_date| count|\n",
      "+-----------------+------+\n",
      "|       2009-01-01|     1|\n",
      "|       2024-09-30|     3|\n",
      "|       2024-10-01|118439|\n",
      "|       2024-10-02|113803|\n",
      "|       2024-10-03|108704|\n",
      "|       2024-10-04|111523|\n",
      "|       2024-10-05|124131|\n",
      "|       2024-10-06|105279|\n",
      "|       2024-10-07|101839|\n",
      "|       2024-10-08|121304|\n",
      "|       2024-10-09|129728|\n",
      "|       2024-10-10|142495|\n",
      "|       2024-10-11|128717|\n",
      "|       2024-10-12|130009|\n",
      "|       2024-10-13|111074|\n",
      "|       2024-10-14|101517|\n",
      "|       2024-10-15|128811|\n",
      "|       2024-10-16|134584|\n",
      "|       2024-10-17|135907|\n",
      "|       2024-10-18|132641|\n",
      "+-----------------+------+\n",
      "only showing top 20 rows\n",
      "\n"
     ]
    }
   ],
   "source": [
    "analisis2.show()"
   ]
  },
  {
   "cell_type": "code",
   "execution_count": 22,
   "id": "4c9df3c8-b10e-4e5d-ad6b-1cfd43a25c8b",
   "metadata": {},
   "outputs": [
    {
     "name": "stderr",
     "output_type": "stream",
     "text": [
      "                                                                                \r"
     ]
    },
    {
     "data": {
      "text/plain": [
       "128811"
      ]
     },
     "execution_count": 22,
     "metadata": {},
     "output_type": "execute_result"
    }
   ],
   "source": [
    "analisis3 = (\n",
    "    df\n",
    "    .withColumn('tpep_dropoff_date', F.to_date('tpep_dropoff_datetime'))\n",
    "    .where(F.col('tpep_dropoff_date') == datetime.date(2024, 10, 15))\n",
    ")\n",
    "\n",
    "analisis3.count()"
   ]
  },
  {
   "cell_type": "code",
   "execution_count": 23,
   "id": "79b08509-93c5-442e-bfeb-195e89495513",
   "metadata": {},
   "outputs": [
    {
     "name": "stderr",
     "output_type": "stream",
     "text": [
      "                                                                                \r"
     ]
    }
   ],
   "source": [
    "analisis4 = (\n",
    "    df\n",
    "    .withColumn('trip_duration', F.col('tpep_dropoff_datetime') - F.col('tpep_pickup_datetime'))\n",
    "    .orderBy('trip_duration', ascending = False)\n",
    "    .select('trip_duration')\n",
    "    .limit(1)\n",
    "    .collect()[0][0]\n",
    ")"
   ]
  },
  {
   "cell_type": "code",
   "execution_count": 24,
   "id": "65e1ee79-2b19-48c9-a95c-3b05edd0127a",
   "metadata": {},
   "outputs": [
    {
     "data": {
      "text/plain": [
       "datetime.timedelta(days=6, seconds=67024)"
      ]
     },
     "execution_count": 24,
     "metadata": {},
     "output_type": "execute_result"
    }
   ],
   "source": [
    "analisis4"
   ]
  },
  {
   "cell_type": "code",
   "execution_count": 25,
   "id": "5f176c18-8a7b-42a4-9468-3f2e312d5f76",
   "metadata": {},
   "outputs": [
    {
     "data": {
      "text/plain": [
       "162.61777777777777"
      ]
     },
     "execution_count": 25,
     "metadata": {},
     "output_type": "execute_result"
    }
   ],
   "source": [
    "6*24 + 67024/3600"
   ]
  },
  {
   "cell_type": "code",
   "execution_count": 26,
   "id": "04d74951-1ccd-4ca4-aa70-fa2c8034828f",
   "metadata": {},
   "outputs": [
    {
     "name": "stdout",
     "output_type": "stream",
     "text": [
      "--2025-03-18 03:32:31--  https://d37ci6vzurychx.cloudfront.net/misc/taxi_zone_lookup.csv\n",
      "Resolving d37ci6vzurychx.cloudfront.net (d37ci6vzurychx.cloudfront.net)... 18.160.201.131, 18.160.201.126, 18.160.201.5, ...\n",
      "Connecting to d37ci6vzurychx.cloudfront.net (d37ci6vzurychx.cloudfront.net)|18.160.201.131|:443... connected.\n",
      "HTTP request sent, awaiting response... 200 OK\n",
      "Length: 12331 (12K) [text/csv]\n",
      "Saving to: ‘taxi_zone_lookup.csv.1’\n",
      "\n",
      "taxi_zone_lookup.cs 100%[===================>]  12.04K  --.-KB/s    in 0.001s  \n",
      "\n",
      "2025-03-18 03:32:32 (16.4 MB/s) - ‘taxi_zone_lookup.csv.1’ saved [12331/12331]\n",
      "\n"
     ]
    }
   ],
   "source": [
    "!wget https://d37ci6vzurychx.cloudfront.net/misc/taxi_zone_lookup.csv"
   ]
  },
  {
   "cell_type": "code",
   "execution_count": 27,
   "id": "ff91cb1f",
   "metadata": {},
   "outputs": [],
   "source": [
    "zones = (\n",
    "    spark\n",
    "    .read\n",
    "    .csv('taxi_zone_lookup.csv', header=True)\n",
    ")"
   ]
  },
  {
   "cell_type": "code",
   "execution_count": 28,
   "id": "691a4916",
   "metadata": {},
   "outputs": [
    {
     "name": "stdout",
     "output_type": "stream",
     "text": [
      "+----------+-------------+--------------------+------------+\n",
      "|LocationID|      Borough|                Zone|service_zone|\n",
      "+----------+-------------+--------------------+------------+\n",
      "|         1|          EWR|      Newark Airport|         EWR|\n",
      "|         2|       Queens|         Jamaica Bay|   Boro Zone|\n",
      "|         3|        Bronx|Allerton/Pelham G...|   Boro Zone|\n",
      "|         4|    Manhattan|       Alphabet City| Yellow Zone|\n",
      "|         5|Staten Island|       Arden Heights|   Boro Zone|\n",
      "+----------+-------------+--------------------+------------+\n",
      "only showing top 5 rows\n",
      "\n"
     ]
    }
   ],
   "source": [
    "zones.show(5)"
   ]
  },
  {
   "cell_type": "code",
   "execution_count": 29,
   "id": "9800289b-32c8-461c-9688-0791695928f0",
   "metadata": {},
   "outputs": [
    {
     "data": {
      "text/plain": [
       "['VendorID',\n",
       " 'tpep_pickup_datetime',\n",
       " 'tpep_dropoff_datetime',\n",
       " 'passenger_count',\n",
       " 'trip_distance',\n",
       " 'RatecodeID',\n",
       " 'store_and_fwd_flag',\n",
       " 'PULocationID',\n",
       " 'DOLocationID',\n",
       " 'payment_type',\n",
       " 'fare_amount',\n",
       " 'extra',\n",
       " 'mta_tax',\n",
       " 'tip_amount',\n",
       " 'tolls_amount',\n",
       " 'improvement_surcharge',\n",
       " 'total_amount',\n",
       " 'congestion_surcharge',\n",
       " 'Airport_fee']"
      ]
     },
     "execution_count": 29,
     "metadata": {},
     "output_type": "execute_result"
    }
   ],
   "source": [
    "df.columns"
   ]
  },
  {
   "cell_type": "code",
   "execution_count": 32,
   "id": "f281f0b5-46e3-46b0-8492-8e272331e238",
   "metadata": {},
   "outputs": [],
   "source": [
    "# Using the zone lookup data and the Yellow October 2024 data, what is the name of the LEAST frequent pickup location Zone?\n",
    "zones = (\n",
    "    zones\n",
    "    .withColumnRenamed('LocationID', 'PULocationID')\n",
    "    .select('PULocationID', 'Zone')\n",
    ")\n",
    "\n",
    "analisis5 = (\n",
    "    df\n",
    "    .join(zones, on='PULocationID')\n",
    "    .groupby('Zone')\n",
    "    .agg(F.count(\"*\").alias('count'))\n",
    "    .orderBy('count', ascending=True)\n",
    "    .limit(1)\n",
    ")"
   ]
  },
  {
   "cell_type": "code",
   "execution_count": 33,
   "id": "202da6f5-ed53-42b4-aa37-9cf00484875b",
   "metadata": {},
   "outputs": [
    {
     "name": "stdout",
     "output_type": "stream",
     "text": [
      "+--------------------+-----+\n",
      "|                Zone|count|\n",
      "+--------------------+-----+\n",
      "|Governor's Island...|    1|\n",
      "+--------------------+-----+\n",
      "\n"
     ]
    }
   ],
   "source": [
    "analisis5.show()"
   ]
  },
  {
   "cell_type": "code",
   "execution_count": 34,
   "id": "c22defb6-774b-4945-a493-f1782a73ceb5",
   "metadata": {},
   "outputs": [
    {
     "name": "stdout",
     "output_type": "stream",
     "text": [
      "Governor's Island/Ellis Island/Liberty Island\n"
     ]
    }
   ],
   "source": [
    "least_pick_up_zone = analisis5.collect()[0][0]\n",
    "print(least_pick_up_zone)"
   ]
  },
  {
   "cell_type": "code",
   "execution_count": null,
   "id": "2de0bca1-1466-4c38-a338-7b3f716e3523",
   "metadata": {},
   "outputs": [],
   "source": []
  }
 ],
 "metadata": {
  "kernelspec": {
   "display_name": "Python 3 (ipykernel)",
   "language": "python",
   "name": "python3"
  },
  "language_info": {
   "codemirror_mode": {
    "name": "ipython",
    "version": 3
   },
   "file_extension": ".py",
   "mimetype": "text/x-python",
   "name": "python",
   "nbconvert_exporter": "python",
   "pygments_lexer": "ipython3",
   "version": "3.12.2"
  }
 },
 "nbformat": 4,
 "nbformat_minor": 5
}
